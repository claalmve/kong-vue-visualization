{
 "cells": [
  {
   "cell_type": "markdown",
   "metadata": {},
   "source": [
    "# Data Cleaning/Visualizations"
   ]
  },
  {
   "cell_type": "markdown",
   "metadata": {},
   "source": [
    "### By: Calvin Chen"
   ]
  },
  {
   "cell_type": "code",
   "execution_count": 1,
   "metadata": {},
   "outputs": [],
   "source": [
    "from collections import OrderedDict\n",
    "from datetime import timedelta, datetime\n",
    "import random\n",
    "import warnings\n",
    "warnings.filterwarnings('ignore')\n",
    "\n",
    "\n",
    "'''\n",
    "Ideally, we would like to hire someone with strong design and front end programming skills,\n",
    "capable of exposing in charts information that would otherwise be hidden, or at least not explicit,\n",
    "in data sets.\n",
    "\n",
    "As such we want to evaluate the candidates skills on presenting data in meaningful graphs.\n",
    "We are not only interested in the candidate ability to implement the front end applications that\n",
    "would present the graphs, we are also interested in the rationale behind the decisions.\n",
    "\n",
    "The more hidden (or not explicit) meaningful information becomes evident in graphs the better.\n",
    "\n",
    "Values:\n",
    "    1. Autonomous action: We are a young team with no product manager.\n",
    "       We need individuals who can go make important decisions by themselves and do the work\n",
    "       needed to know that those decisions are the best way forward on their own.\n",
    "    2. Communication: We are a remote team.  We require teammates who communicate themselves and\n",
    "       their ideas well, and are fastidious about keeping online communication open.\n",
    "    3. Innovation + Reflection: We want our team to always be striving to do the best.\n",
    "       To achieve that, our members must be innovative in their solutions, and reflective about\n",
    "       their innovations.\n",
    "\n",
    "\n",
    "Project Description\n",
    "\n",
    "Implement an app or widget to present visual information from a dataset of http requests\n",
    "\n",
    "Project Purpose\n",
    "\n",
    "To evaluate the ability to present useful information from a dataset in meaningful graphs.\n",
    "\n",
    "Dependencies\n",
    "\n",
    "Please write this project using vue.js.\n",
    "We provide a CSV file containing the data required. It consists of 100k lines, each representing one\n",
    "http request. Each line has request_time, service_name, http_method, consumer_id, latency_in_seconds\n",
    "and response_code as columns.\n",
    "\n",
    "\n",
    "'''\n",
    "\n",
    "\n",
    "def generate_traffic_data(number_of_services, number_of_consumers, number_of_requests, start):\n",
    "    methods = OrderedDict([('get', 0.2), ('post', 0.8)])\n",
    "    response_codes = OrderedDict([('200', 0.8), ('500', 0.1), ('401', 0.1)])\n",
    "    consumers = [f'consumer_{i}' for i in range(number_of_consumers)]\n",
    "    services = [f'service_{i}' for i in range(number_of_consumers)]\n",
    "    latencies_models = (\n",
    "        lambda: random.gauss(0.01, 0.001),\n",
    "        lambda: random.gauss(1, 0.0012),\n",
    "        lambda: random.gauss(5, 0.1),\n",
    "        lambda: random.randrange(5, 8, 1),\n",
    "    )\n",
    "    latencies_models_probabilities = (0.7, 0.2, 0.05, 0.05)\n",
    "    last_time = start\n",
    "\n",
    "    for i in range(number_of_requests):\n",
    "        interval = random.randrange(0, 100, 1) * 0.05  # maximum interval between requests: 5s\n",
    "        last_time = last_time + timedelta(seconds=interval)\n",
    "        method = random.choices(list(methods.keys()), list(methods.values()))[0]\n",
    "        consumer = random.choice(consumers)\n",
    "        response = random.choices(list(response_codes.keys()), list(response_codes.values()))[0]\n",
    "        service = random.choice(services)\n",
    "        latency_model = random.choices(latencies_models, latencies_models_probabilities, k=1)[0]\n",
    "        latency = latency_model()\n",
    "\n",
    "        yield f'{last_time},{service},{method},{consumer},{latency},{response}\\n'"
   ]
  },
  {
   "cell_type": "code",
   "execution_count": 4,
   "metadata": {},
   "outputs": [],
   "source": [
    "if __name__ == '__main__':\n",
    "    columns = 'request_time,service_name,http_method,consumer_id,latency_in_seconds,response_code\\n'\n",
    "    with open('traffic.csv', 'w') as f:\n",
    "        f.write(columns)\n",
    "        for line in generate_traffic_data(10, 5000, 100000, datetime(2017, 1, 1)):\n",
    "            f.write(line)"
   ]
  },
  {
   "cell_type": "markdown",
   "metadata": {},
   "source": [
    "### Converts csv to json"
   ]
  },
  {
   "cell_type": "code",
   "execution_count": 5,
   "metadata": {},
   "outputs": [
    {
     "name": "stdout",
     "output_type": "stream",
     "text": [
      "JSON parsed!\n",
      "JSON saved!\n"
     ]
    }
   ],
   "source": [
    "\"\"\"\n",
    "This following script converts the given .csv into a .json file, which may or may not have been allowed, but other\n",
    "than this data conversion, all other work pertaining to the dashboard was done in Vue.js.\n",
    "\"\"\"\n",
    "\n",
    "import csv  \n",
    "import json  \n",
    "  \n",
    "# Open the CSV  \n",
    "f = open('traffic.csv', 'rU' )  \n",
    "reader = csv.DictReader(f, fieldnames = (\"request_time\", \"service_name\", \"http_method\", \"consumer_id\", \"latency_in_seconds\", \"response_code\"))  \n",
    "# Get rid of CSV headers\n",
    "next(reader)\n",
    "# Parse the CSV into JSON \n",
    "out = json.dumps([row for row in reader])\n",
    "print(\"JSON parsed!\")\n",
    "# Save the JSON  \n",
    "f = open('traffic.json', 'w')\n",
    "f.write(out)  \n",
    "print(\"JSON saved!\")"
   ]
  },
  {
   "cell_type": "code",
   "execution_count": 3,
   "metadata": {},
   "outputs": [],
   "source": [
    "import json \n",
    "import csv\n",
    "import pandas as pd\n",
    "import matplotlib.pyplot as plt\n",
    "import seaborn as sns"
   ]
  },
  {
   "cell_type": "code",
   "execution_count": 4,
   "metadata": {},
   "outputs": [
    {
     "data": {
      "text/html": [
       "<div>\n",
       "<style scoped>\n",
       "    .dataframe tbody tr th:only-of-type {\n",
       "        vertical-align: middle;\n",
       "    }\n",
       "\n",
       "    .dataframe tbody tr th {\n",
       "        vertical-align: top;\n",
       "    }\n",
       "\n",
       "    .dataframe thead th {\n",
       "        text-align: right;\n",
       "    }\n",
       "</style>\n",
       "<table border=\"1\" class=\"dataframe\">\n",
       "  <thead>\n",
       "    <tr style=\"text-align: right;\">\n",
       "      <th></th>\n",
       "      <th>request_time</th>\n",
       "      <th>service_name</th>\n",
       "      <th>http_method</th>\n",
       "      <th>consumer_id</th>\n",
       "      <th>latency_in_seconds</th>\n",
       "      <th>response_code</th>\n",
       "    </tr>\n",
       "  </thead>\n",
       "  <tbody>\n",
       "    <tr>\n",
       "      <th>0</th>\n",
       "      <td>2017-01-01 00:00:04.750000</td>\n",
       "      <td>service_1375</td>\n",
       "      <td>post</td>\n",
       "      <td>consumer_2747</td>\n",
       "      <td>0.010973</td>\n",
       "      <td>200</td>\n",
       "    </tr>\n",
       "    <tr>\n",
       "      <th>1</th>\n",
       "      <td>2017-01-01 00:00:05.200000</td>\n",
       "      <td>service_3119</td>\n",
       "      <td>get</td>\n",
       "      <td>consumer_1785</td>\n",
       "      <td>0.009397</td>\n",
       "      <td>200</td>\n",
       "    </tr>\n",
       "    <tr>\n",
       "      <th>2</th>\n",
       "      <td>2017-01-01 00:00:05.500000</td>\n",
       "      <td>service_3330</td>\n",
       "      <td>post</td>\n",
       "      <td>consumer_25</td>\n",
       "      <td>0.010789</td>\n",
       "      <td>200</td>\n",
       "    </tr>\n",
       "    <tr>\n",
       "      <th>3</th>\n",
       "      <td>2017-01-01 00:00:08.200000</td>\n",
       "      <td>service_2254</td>\n",
       "      <td>post</td>\n",
       "      <td>consumer_698</td>\n",
       "      <td>6.000000</td>\n",
       "      <td>200</td>\n",
       "    </tr>\n",
       "    <tr>\n",
       "      <th>4</th>\n",
       "      <td>2017-01-01 00:00:13.150000</td>\n",
       "      <td>service_3270</td>\n",
       "      <td>post</td>\n",
       "      <td>consumer_2695</td>\n",
       "      <td>0.008828</td>\n",
       "      <td>200</td>\n",
       "    </tr>\n",
       "  </tbody>\n",
       "</table>\n",
       "</div>"
      ],
      "text/plain": [
       "                 request_time  service_name http_method    consumer_id  \\\n",
       "0  2017-01-01 00:00:04.750000  service_1375        post  consumer_2747   \n",
       "1  2017-01-01 00:00:05.200000  service_3119         get  consumer_1785   \n",
       "2  2017-01-01 00:00:05.500000  service_3330        post    consumer_25   \n",
       "3  2017-01-01 00:00:08.200000  service_2254        post   consumer_698   \n",
       "4  2017-01-01 00:00:13.150000  service_3270        post  consumer_2695   \n",
       "\n",
       "   latency_in_seconds  response_code  \n",
       "0            0.010973            200  \n",
       "1            0.009397            200  \n",
       "2            0.010789            200  \n",
       "3            6.000000            200  \n",
       "4            0.008828            200  "
      ]
     },
     "execution_count": 4,
     "metadata": {},
     "output_type": "execute_result"
    }
   ],
   "source": [
    "data = pd.read_csv('traffic.csv')\n",
    "data.head()"
   ]
  },
  {
   "cell_type": "markdown",
   "metadata": {},
   "source": [
    "### Data Cleaning"
   ]
  },
  {
   "cell_type": "code",
   "execution_count": 5,
   "metadata": {},
   "outputs": [],
   "source": [
    "def service_num(row):\n",
    "    return int(row[8:])\n",
    "\n",
    "def consumer_id(row):\n",
    "    return int(row[9:])\n",
    "\n",
    "def hour(row):\n",
    "    return row.hour\n",
    "\n",
    "def minute(row):\n",
    "    return row.minute\n",
    "\n",
    "def second(row):\n",
    "    return row.second"
   ]
  },
  {
   "cell_type": "code",
   "execution_count": 6,
   "metadata": {},
   "outputs": [],
   "source": [
    "data['service_num'] = data['service_name'].apply(service_num)\n",
    "data['num_consumer_id'] = data['consumer_id'].apply(consumer_id)\n",
    "data['request_datetime'] = pd.to_datetime(data['request_time'])\n",
    "data['hour'] = data['request_datetime'].apply(hour)\n",
    "data['minute'] = data['request_datetime'].apply(minute)\n",
    "data['second'] = data['request_datetime'].apply(second)"
   ]
  },
  {
   "cell_type": "code",
   "execution_count": 7,
   "metadata": {},
   "outputs": [
    {
     "data": {
      "text/html": [
       "<div>\n",
       "<style scoped>\n",
       "    .dataframe tbody tr th:only-of-type {\n",
       "        vertical-align: middle;\n",
       "    }\n",
       "\n",
       "    .dataframe tbody tr th {\n",
       "        vertical-align: top;\n",
       "    }\n",
       "\n",
       "    .dataframe thead th {\n",
       "        text-align: right;\n",
       "    }\n",
       "</style>\n",
       "<table border=\"1\" class=\"dataframe\">\n",
       "  <thead>\n",
       "    <tr style=\"text-align: right;\">\n",
       "      <th></th>\n",
       "      <th>request_time</th>\n",
       "      <th>service_name</th>\n",
       "      <th>http_method</th>\n",
       "      <th>consumer_id</th>\n",
       "      <th>latency_in_seconds</th>\n",
       "      <th>response_code</th>\n",
       "      <th>service_num</th>\n",
       "      <th>num_consumer_id</th>\n",
       "      <th>request_datetime</th>\n",
       "      <th>hour</th>\n",
       "      <th>minute</th>\n",
       "      <th>second</th>\n",
       "    </tr>\n",
       "  </thead>\n",
       "  <tbody>\n",
       "    <tr>\n",
       "      <th>0</th>\n",
       "      <td>2017-01-01 00:00:04.750000</td>\n",
       "      <td>service_1375</td>\n",
       "      <td>post</td>\n",
       "      <td>consumer_2747</td>\n",
       "      <td>0.010973</td>\n",
       "      <td>200</td>\n",
       "      <td>1375</td>\n",
       "      <td>2747</td>\n",
       "      <td>2017-01-01 00:00:04.750</td>\n",
       "      <td>0</td>\n",
       "      <td>0</td>\n",
       "      <td>4</td>\n",
       "    </tr>\n",
       "    <tr>\n",
       "      <th>1</th>\n",
       "      <td>2017-01-01 00:00:05.200000</td>\n",
       "      <td>service_3119</td>\n",
       "      <td>get</td>\n",
       "      <td>consumer_1785</td>\n",
       "      <td>0.009397</td>\n",
       "      <td>200</td>\n",
       "      <td>3119</td>\n",
       "      <td>1785</td>\n",
       "      <td>2017-01-01 00:00:05.200</td>\n",
       "      <td>0</td>\n",
       "      <td>0</td>\n",
       "      <td>5</td>\n",
       "    </tr>\n",
       "    <tr>\n",
       "      <th>2</th>\n",
       "      <td>2017-01-01 00:00:05.500000</td>\n",
       "      <td>service_3330</td>\n",
       "      <td>post</td>\n",
       "      <td>consumer_25</td>\n",
       "      <td>0.010789</td>\n",
       "      <td>200</td>\n",
       "      <td>3330</td>\n",
       "      <td>25</td>\n",
       "      <td>2017-01-01 00:00:05.500</td>\n",
       "      <td>0</td>\n",
       "      <td>0</td>\n",
       "      <td>5</td>\n",
       "    </tr>\n",
       "    <tr>\n",
       "      <th>3</th>\n",
       "      <td>2017-01-01 00:00:08.200000</td>\n",
       "      <td>service_2254</td>\n",
       "      <td>post</td>\n",
       "      <td>consumer_698</td>\n",
       "      <td>6.000000</td>\n",
       "      <td>200</td>\n",
       "      <td>2254</td>\n",
       "      <td>698</td>\n",
       "      <td>2017-01-01 00:00:08.200</td>\n",
       "      <td>0</td>\n",
       "      <td>0</td>\n",
       "      <td>8</td>\n",
       "    </tr>\n",
       "    <tr>\n",
       "      <th>4</th>\n",
       "      <td>2017-01-01 00:00:13.150000</td>\n",
       "      <td>service_3270</td>\n",
       "      <td>post</td>\n",
       "      <td>consumer_2695</td>\n",
       "      <td>0.008828</td>\n",
       "      <td>200</td>\n",
       "      <td>3270</td>\n",
       "      <td>2695</td>\n",
       "      <td>2017-01-01 00:00:13.150</td>\n",
       "      <td>0</td>\n",
       "      <td>0</td>\n",
       "      <td>13</td>\n",
       "    </tr>\n",
       "  </tbody>\n",
       "</table>\n",
       "</div>"
      ],
      "text/plain": [
       "                 request_time  service_name http_method    consumer_id  \\\n",
       "0  2017-01-01 00:00:04.750000  service_1375        post  consumer_2747   \n",
       "1  2017-01-01 00:00:05.200000  service_3119         get  consumer_1785   \n",
       "2  2017-01-01 00:00:05.500000  service_3330        post    consumer_25   \n",
       "3  2017-01-01 00:00:08.200000  service_2254        post   consumer_698   \n",
       "4  2017-01-01 00:00:13.150000  service_3270        post  consumer_2695   \n",
       "\n",
       "   latency_in_seconds  response_code  service_num  num_consumer_id  \\\n",
       "0            0.010973            200         1375             2747   \n",
       "1            0.009397            200         3119             1785   \n",
       "2            0.010789            200         3330               25   \n",
       "3            6.000000            200         2254              698   \n",
       "4            0.008828            200         3270             2695   \n",
       "\n",
       "         request_datetime  hour  minute  second  \n",
       "0 2017-01-01 00:00:04.750     0       0       4  \n",
       "1 2017-01-01 00:00:05.200     0       0       5  \n",
       "2 2017-01-01 00:00:05.500     0       0       5  \n",
       "3 2017-01-01 00:00:08.200     0       0       8  \n",
       "4 2017-01-01 00:00:13.150     0       0      13  "
      ]
     },
     "execution_count": 7,
     "metadata": {},
     "output_type": "execute_result"
    }
   ],
   "source": [
    "data.head()"
   ]
  },
  {
   "cell_type": "markdown",
   "metadata": {},
   "source": [
    "### Data Visualizations"
   ]
  },
  {
   "cell_type": "code",
   "execution_count": 8,
   "metadata": {},
   "outputs": [
    {
     "name": "stderr",
     "output_type": "stream",
     "text": [
      "/Users/calvin/anaconda3/lib/python3.6/site-packages/matplotlib/axes/_axes.py:6462: UserWarning: The 'normed' kwarg is deprecated, and has been replaced by the 'density' kwarg.\n",
      "  warnings.warn(\"The 'normed' kwarg is deprecated, and has been \"\n"
     ]
    },
    {
     "data": {
      "image/png": "[encoded data removed]",
      "text/plain": [
       "<Figure size 432x288 with 1 Axes>"
      ]
     },
     "metadata": {},
     "output_type": "display_data"
    }
   ],
   "source": [
    "# Latency in seconds for the entire dataset\n",
    "sns.distplot(data['latency_in_seconds']);"
   ]
  },
  {
   "cell_type": "code",
   "execution_count": 9,
   "metadata": {},
   "outputs": [
    {
     "name": "stderr",
     "output_type": "stream",
     "text": [
      "/Users/calvin/anaconda3/lib/python3.6/site-packages/matplotlib/axes/_axes.py:6462: UserWarning: The 'normed' kwarg is deprecated, and has been replaced by the 'density' kwarg.\n",
      "  warnings.warn(\"The 'normed' kwarg is deprecated, and has been \"\n"
     ]
    },
    {
     "data": {
      "image/png": "[encoded data removed]",
      "text/plain": [
       "<Figure size 432x288 with 1 Axes>"
      ]
     },
     "metadata": {},
     "output_type": "display_data"
    }
   ],
   "source": [
    "# Latency in seconds for requests that took longer than 4.5 seconds (slow)\n",
    "slow = data[data['latency_in_seconds'] > 4.5]\n",
    "sns.distplot(slow['latency_in_seconds']);"
   ]
  },
  {
   "cell_type": "markdown",
   "metadata": {},
   "source": [
    "### Looking at the slow ones"
   ]
  },
  {
   "cell_type": "code",
   "execution_count": 10,
   "metadata": {},
   "outputs": [
    {
     "data": {
      "text/plain": [
       "3     0\n",
       "7     0\n",
       "13    0\n",
       "14    0\n",
       "43    1\n",
       "Name: minute, dtype: int64"
      ]
     },
     "execution_count": 10,
     "metadata": {},
     "output_type": "execute_result"
    }
   ],
   "source": [
    "slow['minute'].head()"
   ]
  },
  {
   "cell_type": "code",
   "execution_count": 11,
   "metadata": {},
   "outputs": [
    {
     "data": {
      "image/png": "[encoded data removed]",
      "text/plain": [
       "<Figure size 432x288 with 1 Axes>"
      ]
     },
     "metadata": {},
     "output_type": "display_data"
    }
   ],
   "source": [
    "# Taking a look at the number of requests at different minute intervals to see if there's a correlation between\n",
    "# the time of hour and the number of slow requests.\n",
    "slow_minute = slow['minute'].value_counts().sort_index()\n",
    "slow_minute.plot(kind='line');"
   ]
  },
  {
   "cell_type": "markdown",
   "metadata": {},
   "source": [
    "### Looking at the most recent ones (1 hour ago)"
   ]
  },
  {
   "cell_type": "code",
   "execution_count": 12,
   "metadata": {},
   "outputs": [],
   "source": [
    "latest = data['request_datetime'].sort_values(ascending=False)[99999]\n",
    "an_hour_ago = latest - timedelta(hours=1)\n",
    "recent = data[data['request_datetime'] > an_hour_ago]"
   ]
  },
  {
   "cell_type": "code",
   "execution_count": 13,
   "metadata": {},
   "outputs": [
    {
     "data": {
      "text/html": [
       "<div>\n",
       "<style scoped>\n",
       "    .dataframe tbody tr th:only-of-type {\n",
       "        vertical-align: middle;\n",
       "    }\n",
       "\n",
       "    .dataframe tbody tr th {\n",
       "        vertical-align: top;\n",
       "    }\n",
       "\n",
       "    .dataframe thead th {\n",
       "        text-align: right;\n",
       "    }\n",
       "</style>\n",
       "<table border=\"1\" class=\"dataframe\">\n",
       "  <thead>\n",
       "    <tr style=\"text-align: right;\">\n",
       "      <th></th>\n",
       "      <th>request_time</th>\n",
       "      <th>service_name</th>\n",
       "      <th>http_method</th>\n",
       "      <th>consumer_id</th>\n",
       "      <th>latency_in_seconds</th>\n",
       "      <th>response_code</th>\n",
       "      <th>service_num</th>\n",
       "      <th>num_consumer_id</th>\n",
       "      <th>request_datetime</th>\n",
       "      <th>hour</th>\n",
       "      <th>minute</th>\n",
       "      <th>second</th>\n",
       "    </tr>\n",
       "  </thead>\n",
       "  <tbody>\n",
       "    <tr>\n",
       "      <th>98520</th>\n",
       "      <td>2017-01-03 19:44:38.750000</td>\n",
       "      <td>service_3820</td>\n",
       "      <td>post</td>\n",
       "      <td>consumer_1512</td>\n",
       "      <td>0.009546</td>\n",
       "      <td>200</td>\n",
       "      <td>3820</td>\n",
       "      <td>1512</td>\n",
       "      <td>2017-01-03 19:44:38.750</td>\n",
       "      <td>19</td>\n",
       "      <td>44</td>\n",
       "      <td>38</td>\n",
       "    </tr>\n",
       "    <tr>\n",
       "      <th>98521</th>\n",
       "      <td>2017-01-03 19:44:40.150000</td>\n",
       "      <td>service_1082</td>\n",
       "      <td>post</td>\n",
       "      <td>consumer_3295</td>\n",
       "      <td>0.008860</td>\n",
       "      <td>200</td>\n",
       "      <td>1082</td>\n",
       "      <td>3295</td>\n",
       "      <td>2017-01-03 19:44:40.150</td>\n",
       "      <td>19</td>\n",
       "      <td>44</td>\n",
       "      <td>40</td>\n",
       "    </tr>\n",
       "    <tr>\n",
       "      <th>98522</th>\n",
       "      <td>2017-01-03 19:44:41.700000</td>\n",
       "      <td>service_1110</td>\n",
       "      <td>post</td>\n",
       "      <td>consumer_2496</td>\n",
       "      <td>0.008026</td>\n",
       "      <td>200</td>\n",
       "      <td>1110</td>\n",
       "      <td>2496</td>\n",
       "      <td>2017-01-03 19:44:41.700</td>\n",
       "      <td>19</td>\n",
       "      <td>44</td>\n",
       "      <td>41</td>\n",
       "    </tr>\n",
       "    <tr>\n",
       "      <th>98523</th>\n",
       "      <td>2017-01-03 19:44:41.800000</td>\n",
       "      <td>service_2981</td>\n",
       "      <td>post</td>\n",
       "      <td>consumer_4181</td>\n",
       "      <td>0.011108</td>\n",
       "      <td>401</td>\n",
       "      <td>2981</td>\n",
       "      <td>4181</td>\n",
       "      <td>2017-01-03 19:44:41.800</td>\n",
       "      <td>19</td>\n",
       "      <td>44</td>\n",
       "      <td>41</td>\n",
       "    </tr>\n",
       "    <tr>\n",
       "      <th>98524</th>\n",
       "      <td>2017-01-03 19:44:42.500000</td>\n",
       "      <td>service_2167</td>\n",
       "      <td>get</td>\n",
       "      <td>consumer_2619</td>\n",
       "      <td>0.009420</td>\n",
       "      <td>200</td>\n",
       "      <td>2167</td>\n",
       "      <td>2619</td>\n",
       "      <td>2017-01-03 19:44:42.500</td>\n",
       "      <td>19</td>\n",
       "      <td>44</td>\n",
       "      <td>42</td>\n",
       "    </tr>\n",
       "  </tbody>\n",
       "</table>\n",
       "</div>"
      ],
      "text/plain": [
       "                     request_time  service_name http_method    consumer_id  \\\n",
       "98520  2017-01-03 19:44:38.750000  service_3820        post  consumer_1512   \n",
       "98521  2017-01-03 19:44:40.150000  service_1082        post  consumer_3295   \n",
       "98522  2017-01-03 19:44:41.700000  service_1110        post  consumer_2496   \n",
       "98523  2017-01-03 19:44:41.800000  service_2981        post  consumer_4181   \n",
       "98524  2017-01-03 19:44:42.500000  service_2167         get  consumer_2619   \n",
       "\n",
       "       latency_in_seconds  response_code  service_num  num_consumer_id  \\\n",
       "98520            0.009546            200         3820             1512   \n",
       "98521            0.008860            200         1082             3295   \n",
       "98522            0.008026            200         1110             2496   \n",
       "98523            0.011108            401         2981             4181   \n",
       "98524            0.009420            200         2167             2619   \n",
       "\n",
       "             request_datetime  hour  minute  second  \n",
       "98520 2017-01-03 19:44:38.750    19      44      38  \n",
       "98521 2017-01-03 19:44:40.150    19      44      40  \n",
       "98522 2017-01-03 19:44:41.700    19      44      41  \n",
       "98523 2017-01-03 19:44:41.800    19      44      41  \n",
       "98524 2017-01-03 19:44:42.500    19      44      42  "
      ]
     },
     "execution_count": 13,
     "metadata": {},
     "output_type": "execute_result"
    }
   ],
   "source": [
    "recent.head()"
   ]
  },
  {
   "cell_type": "code",
   "execution_count": 14,
   "metadata": {},
   "outputs": [
    {
     "data": {
      "image/png": "[encoded data removed]",
      "text/plain": [
       "<Figure size 432x288 with 1 Axes>"
      ]
     },
     "metadata": {},
     "output_type": "display_data"
    }
   ],
   "source": [
    "# Taking a look at the number of requests at different minute intervals to see the distribution of requests\n",
    "# for the past hour.\n",
    "rec_min = recent['minute'].value_counts().sort_index()\n",
    "rec_min.plot(kind='line');"
   ]
  },
  {
   "cell_type": "code",
   "execution_count": 15,
   "metadata": {},
   "outputs": [
    {
     "name": "stderr",
     "output_type": "stream",
     "text": [
      "/Users/calvin/anaconda3/lib/python3.6/site-packages/matplotlib/axes/_axes.py:6462: UserWarning: The 'normed' kwarg is deprecated, and has been replaced by the 'density' kwarg.\n",
      "  warnings.warn(\"The 'normed' kwarg is deprecated, and has been \"\n"
     ]
    },
    {
     "data": {
      "image/png": "[encoded data removed]",
      "text/plain": [
       "<Figure size 432x288 with 1 Axes>"
      ]
     },
     "metadata": {},
     "output_type": "display_data"
    }
   ],
   "source": [
    "# Latency in seconds for requests in the last hour\n",
    "sns.distplot(recent['latency_in_seconds']);"
   ]
  },
  {
   "cell_type": "markdown",
   "metadata": {},
   "source": [
    "### Taking a look at different time intervals"
   ]
  },
  {
   "cell_type": "code",
   "execution_count": 16,
   "metadata": {},
   "outputs": [
    {
     "data": {
      "image/png": "[encoded data removed]",
      "text/plain": [
       "<Figure size 432x288 with 1 Axes>"
      ]
     },
     "metadata": {},
     "output_type": "display_data"
    }
   ],
   "source": [
    "# Taking a look by the minute to see if there are any minutes throughout the day that have a higher number of requests\n",
    "normal_minute = data['minute'].value_counts().sort_index()\n",
    "normal_minute.plot(kind='bar');"
   ]
  },
  {
   "cell_type": "code",
   "execution_count": 17,
   "metadata": {},
   "outputs": [
    {
     "data": {
      "image/png": "[encoded data removed]",
      "text/plain": [
       "<Figure size 432x288 with 1 Axes>"
      ]
     },
     "metadata": {},
     "output_type": "display_data"
    }
   ],
   "source": [
    "# Taking a look by the hour to see if there are any hours throughout the day that have a higher number of requests.\n",
    "hour_values = data['hour'].value_counts().sort_index()\n",
    "hour_values.plot(kind='bar');"
   ]
  },
  {
   "cell_type": "code",
   "execution_count": null,
   "metadata": {},
   "outputs": [],
   "source": []
  }
 ],
 "metadata": {
  "kernelspec": {
   "display_name": "Python 3",
   "language": "python",
   "name": "python3"
  },
  "language_info": {
   "codemirror_mode": {
    "name": "ipython",
    "version": 3
   },
   "file_extension": ".py",
   "mimetype": "text/x-python",
   "name": "python",
   "nbconvert_exporter": "python",
   "pygments_lexer": "ipython3",
   "version": "3.6.6"
  }
 },
 "nbformat": 4,
 "nbformat_minor": 2
}
